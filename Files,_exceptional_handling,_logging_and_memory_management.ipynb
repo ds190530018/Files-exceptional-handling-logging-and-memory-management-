{
  "nbformat": 4,
  "nbformat_minor": 0,
  "metadata": {
    "colab": {
      "provenance": []
    },
    "kernelspec": {
      "name": "python3",
      "display_name": "Python 3"
    },
    "language_info": {
      "name": "python"
    }
  },
  "cells": [
    {
      "cell_type": "markdown",
      "source": [
        "Qus1.  What is the difference between interpreted and compiled languages?\n",
        "\n",
        "- The main difference between interpreted and compiled languages lies in how they are executed by a computer.\n",
        "\n",
        "Compiled Languages - The code is translated before execution into machine code by a compiler and This machine code is then executed directly by the CPU.\n",
        "\n",
        "Interpreted Languages - The code is executed line by line by an interpreter at runtime and There is no separate compilation step; the interpreter directly runs the script.\n",
        "\n",
        "\n",
        "Qus2.  What is exception handling in Python?\n",
        "- Exception handling in Python is a way to manage errors that occur during program execution. It allows your program to handle unexpected situations gracefully instead of crashing.\n",
        "\n",
        "Qus3.  What is the purpose of the finally block in exception handling?\n",
        "- The finally block is used to ensure that certain code runs no matter what happens, whether an exception occurs or not. It is typically used for cleanup operations, such as closing files, releasing resources, or disconnecting from a database.\n",
        "\n",
        "\n",
        "Qus4.  What is logging in Python?\n",
        "- it records the state and flow of the programme/code/software. it is very useful for understanding and debugging the code.\n",
        "\n",
        "Qus5.  What is the significance of the __del__ method in Python?\n",
        "- The __del__ method is a destructor in Python. It is called automatically when an object is about to be destroyed.\n",
        "\n",
        "Qus6.  What is the difference between import and from ... import in Python?\n",
        "- Both import and from ... import are used to bring external modules into your Python script.\n",
        "\n",
        "import = Imports the entire module and use the module name to access functions or variables.\n",
        "\n",
        "from ... import = imports specific functions or variables from a module and  use them directly without prefixing with the module name.\n",
        "\n",
        "Qus7. How can you handle multiple exceptions in Python?\n",
        "- we can handle multiple exceptions using the try-except block.\n",
        "\n",
        "\n",
        "Qus8. What is the purpose of the with statement when handling files in Python?\n",
        "- The with statement is used for handling files efficiently in Python. It ensures that the file is automatically closed after its block of code is executed, even if an error occurs.\n",
        "\n",
        "\n",
        "Qus9.  What is the difference between multithreading and multiprocessing?\n",
        "- Multithreading = it happen on one processor, it share same memory space and resource within a process , it run cuncurrently , performed very well input/output process download file.\n",
        "\n",
        "multiprocessing = multi processors are there and each processor has its own memory space and resource which are isolated from other , run parallely.\n",
        "\n",
        "Qus10. What are the advantages of using logging in a program?\n",
        "- Logging is a crucial feature in software development that helps track events, debug issues, and monitor application performance. Instead of using print(), logging provides a structured, flexible, and scalable way to capture important information.\n",
        "\n",
        "Qus11.  What is memory management in Python?\n",
        "- Memory management in Python is the process of allocating, using, and freeing memory efficiently to ensure optimal program performance.\n",
        "\n",
        "Qus12.  What are the basic steps involved in exception handling in Python?\n",
        "- Use try to wrap risky code ,\n",
        "  Use except to catch exceptions ,\n",
        "  Use else to execute code only if no exception occurs ,\n",
        "  Use finally for cleanup tasks ,\n",
        "  Use raise for custom exceptions ,\n",
        "\n",
        "\n",
        "Qus13. Why is memory management important in Python?\n",
        "- Memory management is critical for ensuring that programs run efficiently, without consuming unnecessary resources, leading to performance issues or crashes.\n",
        "\n",
        "\n",
        "Qus14.  What is the role of try and except in exception handling?\n",
        "- In Python, try and except are used together to catch and handle exceptions.\n",
        "\n",
        "The try block is used to wrap code that might raise an exception\n",
        "\n",
        "\n",
        "The except block handles the exception. Once an exception is caught, the program executes the code inside the except\n",
        "\n",
        "\n",
        "Qus15. How does Python's garbage collection system work?\n",
        "- Python's garbage collection (GC) system is responsible for automatically managing memory by reclaiming unused memory and preventing memory leaks. This helps ensure that programs run efficiently and resources are used optimally.\n",
        "\n",
        "\n",
        "Qus16.  What is the purpose of the else block in exception handling?\n",
        "-  Use else to execute code only if no exception occurs.\n",
        "\n",
        "\n",
        "\n",
        "Qus17. What are the common logging levels in Python?\n",
        "- DEBUG\n",
        "\n",
        "  INFO\n",
        "\n",
        "  WARNING\n",
        "\n",
        "  ERROR\n",
        "\n",
        "  CRITICAL\n",
        "\n",
        "\n",
        "Qus18. What is the difference between os.fork() and multiprocessing in Python?\n",
        "- os.fork()  is a low-level function that creates a child process by duplicating the calling (parent) process. The child process receives a copy of the parent’s memory, but both processes will run independently thereafter.\n",
        "\n",
        "\n",
        " The multiprocessing module provides a higher-level API for creating and managing processes. It abstracts many of the complexities involved in process creation and allows for easier communication between processes.\n",
        "\n",
        "\n",
        "\n",
        " Qus19.  What is the importance of closing a file in Python?\n",
        " - losing a file in Python is crucial to ensure proper resource management and to prevent potential issues with file handling. When you open a file using Python’s open() function, the system allocates resources to manage that file. If the file is not closed properly, it can lead to various problems.\n",
        "\n",
        "\n",
        "\n",
        " Qus20. What is the difference between file.read() and file.readline() in Python?\n",
        "\n",
        "- file.read() It reads the whole file as a single string. If the file is large, it may consume a significant amount of memory.\n",
        "\n",
        "\n",
        " file.readline()  It reads the next line from the file, including the newline character (\\n) at the end of the line.\n",
        "\n",
        "\n",
        " Qus21.  What is the logging module in Python used for?\n",
        "  - he logging module in Python is used for tracking events that happen during the execution of a program. It provides a flexible framework for writing log messages to different outputs, such as the console, files, or remote servers.\n",
        "\n",
        "\n",
        "Qus22. What is the os module in Python used for in file handling?\n",
        "- The os module in Python provides a way to interact with the operating system and perform various system-level operations, including file and directory manipulation.\n",
        "\n",
        "Qus23. What are the challenges associated with memory management in Python?\n",
        "- emory management is an essential part of programming, and while Python handles a lot of memory management tasks automatically (thanks to its built-in garbage collection system), there are still several challenges developers face.\n",
        "\n",
        "Memory Leaks\n",
        "\n",
        "Fragmentation\n",
        "\n",
        "Automatic Garbage Collection\n",
        "\n",
        " Circular References\n",
        "\n",
        "\n",
        "Qus24. How do you raise an exception manually in Python?\n",
        "- raise allows you to raise exceptions manually.\n",
        "\n",
        "\n",
        " raise built-in exceptions like ValueError, TypeError, etc.\n",
        "\n",
        "\n",
        " define custom exceptions by subclassing the Exception class.\n",
        "\n",
        "\n",
        " re-raise exceptions inside except blocks with the raise keyword.\n",
        "\n",
        "\n",
        " Qus25.  Why is it important to use multithreading in certain applications?\n",
        " -  Improved Application Performance (I/O-Bound Operations)\n",
        "\n",
        " Concurrency and Parallelism\n",
        "\n",
        " Better Resource Utilization\n",
        "\n",
        "  Real-Time Processing and Responsiveness\n",
        "\n",
        "  Scalability\n",
        "\n",
        "  implified Code Structure for Certain Tasks"
      ],
      "metadata": {
        "id": "t5jaJK2JgL_o"
      }
    },
    {
      "cell_type": "code",
      "source": [
        "#Qus1.  How can you open a file for writing in Python and write a string to it\n",
        "with open('example.txt', 'w') as file:\n",
        "    file.write(\"Hello, world! This is a string written to the file.\")\n"
      ],
      "metadata": {
        "id": "zHyLc3ZLxf1m"
      },
      "execution_count": 1,
      "outputs": []
    },
    {
      "cell_type": "code",
      "source": [
        "#Qus2. Write a Python program to read the contents of a file and print each line\n",
        "with open('example.txt', 'r') as file:\n",
        "\n",
        "    for line in file:\n",
        "\n",
        "        print(line, end='')"
      ],
      "metadata": {
        "colab": {
          "base_uri": "https://localhost:8080/"
        },
        "id": "AdrbyNd6zZ66",
        "outputId": "a5790bd9-d96a-48b5-98cd-2714c26d8d04"
      },
      "execution_count": 2,
      "outputs": [
        {
          "output_type": "stream",
          "name": "stdout",
          "text": [
            "Hello, world! This is a string written to the file."
          ]
        }
      ]
    },
    {
      "cell_type": "code",
      "source": [
        "#Qus3. How would you handle a case where the file doesn't exist while trying to open it for reading\n",
        "try:\n",
        "\n",
        "    with open('example.txt', 'r') as file:\n",
        "\n",
        "        for line in file:\n",
        "            print(line, end='')\n",
        "except FileNotFoundError:\n",
        "\n",
        "    print(\"Error: The file does not exist.\")\n"
      ],
      "metadata": {
        "collapsed": true,
        "id": "o2dTlVl8zzo7"
      },
      "execution_count": null,
      "outputs": []
    },
    {
      "cell_type": "code",
      "source": [
        "#Qus4. Write a Python script that reads from one file and writes its content to another file\n",
        "\n",
        "with open('source.txt', 'r') as source_file:\n",
        "    with open('destination.txt', 'w') as destination_file:\n",
        "        content = source_file.read()\n",
        "\n",
        "        destination_file.write(content)\n",
        "\n",
        "print(\"Content has been successfully copied from source.txt to destination.txt\")\n"
      ],
      "metadata": {
        "id": "fO2aT-7B0hRk"
      },
      "execution_count": null,
      "outputs": []
    },
    {
      "cell_type": "code",
      "source": [
        "#Qus5. How would you catch and handle division by zero error in Python\n",
        "try:\n",
        "\n",
        "    numerator = 10\n",
        "    denominator = 0\n",
        "    result = numerator / denominator\n",
        "    print(f\"Result: {result}\")\n",
        "except ZeroDivisionError:\n",
        "\n",
        "    print(\"Error: Division by zero is not allowed.\")\n"
      ],
      "metadata": {
        "colab": {
          "base_uri": "https://localhost:8080/"
        },
        "id": "OT0Ig3m62aq9",
        "outputId": "428ba6e1-d787-4068-e0e3-caa3a1565134"
      },
      "execution_count": 4,
      "outputs": [
        {
          "output_type": "stream",
          "name": "stdout",
          "text": [
            "Error: Division by zero is not allowed.\n"
          ]
        }
      ]
    },
    {
      "cell_type": "code",
      "source": [
        "#Qus6.  Write a Python program that logs an error message to a log file when a division by zero exception occurs\n",
        "import logging\n",
        "\n",
        "logging.basicConfig(filename='error.log,level= logging.ERROR')\n"
      ],
      "metadata": {
        "id": "iO4u6MME2uBC"
      },
      "execution_count": 5,
      "outputs": []
    },
    {
      "cell_type": "code",
      "source": [
        "#Qus7. How do you log information at different levels (INFO, ERROR, WARNING) in Python using the logging module\n",
        "import logging\n",
        "\n",
        "\n",
        "logging.debug(\"This is a DEBUG message.\")\n",
        "logging.info(\"This is an INFO message.\")\n",
        "logging.warning(\"This is a WARNING message.\")\n",
        "logging.error(\"This is an ERROR message.\")\n",
        "logging.critical(\"This is a CRITICAL message.\")\n"
      ],
      "metadata": {
        "colab": {
          "base_uri": "https://localhost:8080/"
        },
        "id": "GjZP1eOj3h7t",
        "outputId": "4d1d49ec-526d-40a7-e836-0c540b4b2196"
      },
      "execution_count": 7,
      "outputs": [
        {
          "output_type": "stream",
          "name": "stderr",
          "text": [
            "WARNING:root:This is a WARNING message.\n",
            "ERROR:root:This is an ERROR message.\n",
            "CRITICAL:root:This is a CRITICAL message.\n"
          ]
        }
      ]
    },
    {
      "cell_type": "code",
      "source": [
        "#Qus8. Write a program to handle a file opening error using exception handling\n",
        "try:\n",
        "    with open('non_existent_file.txt', 'r') as file:\n",
        "        content = file.read()\n",
        "        print(content)\n",
        "except FileNotFoundError:\n",
        "    print(\"Error: The file does not exist.\")\n",
        "except PermissionError:\n",
        "    print(\"Error: You do not have permission to access the file.\")\n",
        "except Exception as e:\n",
        "    print(f\"An unexpected error occurred: {e}\")\n"
      ],
      "metadata": {
        "colab": {
          "base_uri": "https://localhost:8080/"
        },
        "id": "Up72SwSy37G9",
        "outputId": "f42b8ed9-b309-4e86-d938-2b9da82e3874"
      },
      "execution_count": 8,
      "outputs": [
        {
          "output_type": "stream",
          "name": "stdout",
          "text": [
            "Error: The file does not exist.\n"
          ]
        }
      ]
    },
    {
      "cell_type": "code",
      "source": [
        "#Qus9. How can you read a file line by line and store its content in a list in Python\n",
        "with open(\"example.txt\", \"r\") as file:\n",
        "    lines = file.readlines()\n",
        "    for line in lines:\n",
        "      print(line)\n",
        ""
      ],
      "metadata": {
        "colab": {
          "base_uri": "https://localhost:8080/"
        },
        "id": "ZfhQCSn64cji",
        "outputId": "a5405b43-a03d-4974-8286-f6a8acf375ad"
      },
      "execution_count": 9,
      "outputs": [
        {
          "output_type": "stream",
          "name": "stdout",
          "text": [
            "Hello, world! This is a string written to the file.\n"
          ]
        }
      ]
    },
    {
      "cell_type": "code",
      "source": [
        "#Qus10.  How can you append data to an existing file in Python\n",
        "with open(\"example.txt\", \"a\") as file:\n",
        "   file.write(\"/nthis is new line\")\n",
        "   print(\"Data has been successfully appended to the file.\")"
      ],
      "metadata": {
        "id": "r4dYXst25Hfd"
      },
      "execution_count": 10,
      "outputs": []
    },
    {
      "cell_type": "code",
      "source": [
        "#Qus11.  Write a Python program that uses a try-except block to handle an error when attempting to access a dictionary key that doesn't exist\n",
        "my_dict = {'name': 'deepanshu ', 'age': 23}\n",
        "\n",
        "try:\n",
        "\n",
        "    value = my_dict['address']\n",
        "except KeyError:\n",
        "    print(\"Error: The key 'address' does not exist in the dictionary.\")\n"
      ],
      "metadata": {
        "colab": {
          "base_uri": "https://localhost:8080/"
        },
        "id": "6tEK__mp7Fmy",
        "outputId": "37c177cf-3262-44a8-e376-01b3103356d1"
      },
      "execution_count": 12,
      "outputs": [
        {
          "output_type": "stream",
          "name": "stdout",
          "text": [
            "Error: The key 'address' does not exist in the dictionary.\n"
          ]
        }
      ]
    },
    {
      "cell_type": "code",
      "source": [
        "#Qus12. Write a program that demonstrates using multiple except blocks to handle different types of exception\n",
        "\n",
        "\n",
        "   try:\n",
        "\n",
        "    num1 = int(input(\"Enter the first number: \"))\n",
        "    num2 = int(input(\"Enter the second number: \"))\n",
        "\n",
        "    result = num1 / num2\n",
        "    print(f\"The result of division is: {result}\")\n",
        "\n",
        "except ValueError:\n",
        "    print(\"Error: Invalid input. Please enter a valid integer.\")\n",
        "except ZeroDivisionError:\n",
        "    print(\"Error: Division by zero is not allowed.\")\n",
        "except Exception as e:\n",
        "    print(f\"An unexpected error occurred: {e}\")\n",
        "\n",
        "\n"
      ],
      "metadata": {
        "id": "czsoAXLx8iMs"
      },
      "execution_count": null,
      "outputs": []
    },
    {
      "cell_type": "code",
      "source": [
        "#Qus13.  How would you check if a file exists before attempting to read it in Python\n",
        "import os\n",
        "\n",
        "file_path = 'example.txt'\n",
        "\n",
        "\n",
        "if os.path.exists(file_path):\n",
        "    with open(file_path, 'r') as file:\n",
        "        content = file.read()\n",
        "        print(content)\n",
        "else:\n",
        "    print(f\"The file '{file_path}' does not exist.\")\n"
      ],
      "metadata": {
        "colab": {
          "base_uri": "https://localhost:8080/"
        },
        "id": "qF0Bv0PqLoCz",
        "outputId": "61d06363-cedd-46d7-8f4a-f81ec00aac1d"
      },
      "execution_count": 14,
      "outputs": [
        {
          "output_type": "stream",
          "name": "stdout",
          "text": [
            "Hello, world! This is a string written to the file.this is new line\n"
          ]
        }
      ]
    },
    {
      "cell_type": "code",
      "source": [
        "#Qus14. Write a program that uses the logging module to log both informational and error messages\n",
        "import logging\n",
        "\n",
        "logging.basicConfig(filename='error.log', level = logging.ERROR)\n",
        "\n",
        "\n"
      ],
      "metadata": {
        "id": "8gpZikcIL4SB"
      },
      "execution_count": 15,
      "outputs": []
    },
    {
      "cell_type": "code",
      "source": [
        "#Qus15. Write a Python program that prints the content of a file and handles the case when the file is empty\n",
        "# Specify the file path\n",
        "file_path = 'example.txt'\n",
        "\n",
        "try:\n",
        "    with open(file_path, 'r') as file:\n",
        "        content = file.read()\n",
        "\n",
        "        if content:\n",
        "            print(\"File content:\")\n",
        "            print(content)\n",
        "        else:\n",
        "            print(\"The file is empty.\")\n",
        "except FileNotFoundError:\n",
        "    print(f\"Error: The file '{file_path}' does not exist.\")\n",
        "except Exception as e:\n",
        "    print(f\"An unexpected error occurred: {e}\")\n"
      ],
      "metadata": {
        "colab": {
          "base_uri": "https://localhost:8080/"
        },
        "id": "UFfxX0kgNLQf",
        "outputId": "3759e871-b5d9-4fec-99cb-ec4260afc18a"
      },
      "execution_count": 17,
      "outputs": [
        {
          "output_type": "stream",
          "name": "stdout",
          "text": [
            "File content:\n",
            "Hello, world! This is a string written to the file.this is new line\n"
          ]
        }
      ]
    },
    {
      "cell_type": "code",
      "source": [
        "#Qus16.  Demonstrate how to use memory profiling to check the memory usage of a small program?\n",
        "\n",
        "from memory_profiler import profile\n",
        "\n",
        "@profile\n",
        "def my_function():\n",
        "    a = [i for i in range(100000)]\n",
        "    b = [i * 2 for i in a]\n",
        "    del a\n",
        "    return b\n",
        "if __name__ == \"__main__\":\n",
        "    my_function()\n"
      ],
      "metadata": {
        "id": "KhV6rfcAOhPC"
      },
      "execution_count": null,
      "outputs": []
    },
    {
      "cell_type": "code",
      "source": [
        "#Qus17. Write a Python program to create and write a list of numbers to a file, one number per line\n",
        "numbers = [1, 2, 3, 4, 5, 6, 7, 8, 9, 10]\n",
        "\n",
        "file_path = 'numbers.txt'\n",
        "\n",
        "with open(file_path, 'w') as file:\n",
        "    for number in numbers:\n",
        "\n",
        "        file.write(f\"{number}\\n\")\n",
        "\n",
        "print(f\"List of numbers has been written to '{file_path}'.\")\n"
      ],
      "metadata": {
        "colab": {
          "base_uri": "https://localhost:8080/"
        },
        "id": "-NEuw3LzO8fK",
        "outputId": "23c0c7ac-043f-48ef-e35a-d05a5e1360ae"
      },
      "execution_count": 19,
      "outputs": [
        {
          "output_type": "stream",
          "name": "stdout",
          "text": [
            "List of numbers has been written to 'numbers.txt'.\n"
          ]
        }
      ]
    },
    {
      "cell_type": "code",
      "source": [
        "#Qus18.  How would you implement a basic logging setup that logs to a file with rotation after 1MB\n",
        "import logging\n",
        "from logging.handlers import RotatingFileHandler\n",
        "\n",
        "log_file = 'app.log'\n",
        "max_log_size = 1 * 1024 * 1024  # 1MB\n",
        "backup_count = 3\n",
        "handler = RotatingFileHandler(log_file, maxBytes=max_log_size, backupCount=backup_count)\n",
        "\n",
        "handler.setLevel(logging.INFO)\n",
        "formatter = logging.Formatter('%(asctime)s - %(levelname)s - %(message)s')\n",
        "handler.setFormatter(formatter)\n",
        "\n",
        "logger = logging.getLogger('my_logger')\n",
        "logger.setLevel(logging.INFO)\n",
        "logger.addHandler(handler)\n",
        "\n",
        "logger.info(\"This is an info message.\")\n",
        "logger.warning(\"This is a warning message.\")\n",
        "logger.error(\"This is an error message.\")\n",
        "\n",
        "for i in range(1000):\n",
        "    logger.debug(f\"Logging some debug message {i}\")\n"
      ],
      "metadata": {
        "colab": {
          "base_uri": "https://localhost:8080/"
        },
        "id": "sRGa-p2xPTXr",
        "outputId": "6a33c59f-6935-4584-bedc-02a17f50f9df"
      },
      "execution_count": 20,
      "outputs": [
        {
          "output_type": "stream",
          "name": "stderr",
          "text": [
            "INFO:my_logger:This is an info message.\n",
            "WARNING:my_logger:This is a warning message.\n",
            "ERROR:my_logger:This is an error message.\n"
          ]
        }
      ]
    },
    {
      "cell_type": "code",
      "source": [
        "#Qus19. Write a program that handles both IndexError and KeyError using a try-except block\n",
        "\n",
        "my_list = [1, 2, 3]\n",
        "my_dict = {'a': 1, 'b': 2}\n",
        "\n",
        "try:\n",
        "\n",
        "    print(my_list[5])\n",
        "\n",
        "\n",
        "    print(my_dict['c'])\n",
        "\n",
        "except IndexError as e:\n",
        "    print(f\"IndexError: {e} - List index out of range.\")\n",
        "except KeyError as e:\n",
        "    print(f\"KeyError: {e} - Key not found in the dictionary.\")\n"
      ],
      "metadata": {
        "colab": {
          "base_uri": "https://localhost:8080/"
        },
        "id": "w0Mf7rz2P3oT",
        "outputId": "c2e47850-cbed-4fc8-842a-9b6395464fff"
      },
      "execution_count": 21,
      "outputs": [
        {
          "output_type": "stream",
          "name": "stdout",
          "text": [
            "IndexError: list index out of range - List index out of range.\n"
          ]
        }
      ]
    },
    {
      "cell_type": "code",
      "source": [
        "#Qus20.  How would you open a file and read its contents using a context manager in Python\n",
        "with open(\"exapmle.txt\", \"r\") as file:\n",
        "    content = file.read()\n",
        "    print(content)\n"
      ],
      "metadata": {
        "id": "EGeqVmWcQK_0"
      },
      "execution_count": null,
      "outputs": []
    },
    {
      "cell_type": "code",
      "source": [
        "#Qus21. Write a Python program that reads a file and prints the number of occurrences of a specific word\n",
        "\n",
        "word_to_count = 'Python'\n",
        "\n",
        "# Specify the file path\n",
        "file_path = 'example.txt'\n",
        "\n",
        "try:\n",
        "    with open(file_path, 'r') as file:\n",
        "        # Read the file content\n",
        "        content = file.read()\n",
        "\n",
        "        # Count occurrences of the specified word\n",
        "        word_count = content.lower().split().count(word_to_count.lower())\n",
        "\n",
        "        # Print the result\n",
        "        print(f\"The word '{word_to_count}' occurred {word_count} times in the file.\")\n",
        "\n",
        "except FileNotFoundError:\n",
        "    print(f\"Error: The file '{file_path}' does not exist.\")\n",
        "except Exception as e:\n",
        "    print(f\"An error occurred: {e}\")\n"
      ],
      "metadata": {
        "colab": {
          "base_uri": "https://localhost:8080/"
        },
        "id": "JWdK7gPfQkla",
        "outputId": "605a257b-9204-47fb-f2c0-9a8373ae4035"
      },
      "execution_count": 23,
      "outputs": [
        {
          "output_type": "stream",
          "name": "stdout",
          "text": [
            "The word 'Python' occurred 0 times in the file.\n"
          ]
        }
      ]
    },
    {
      "cell_type": "code",
      "source": [
        "#Qus22.  How can you check if a file is empty before attempting to read its contents\n",
        "import os\n",
        "\n",
        "file_path = 'example.txt'\n",
        "\n",
        "if os.path.getsize(file_path) == 0:\n",
        "    print(\"The file is empty.\")\n",
        "else:\n",
        "    with open(file_path, 'r') as file:\n",
        "        content = file.read()\n",
        "        print(\"File content:\", content)\n"
      ],
      "metadata": {
        "colab": {
          "base_uri": "https://localhost:8080/"
        },
        "id": "T2cdQnqyRzTa",
        "outputId": "877fb3f9-7959-48e8-c4b8-887889748c0f"
      },
      "execution_count": 24,
      "outputs": [
        {
          "output_type": "stream",
          "name": "stdout",
          "text": [
            "File content: Hello, world! This is a string written to the file.this is new line\n"
          ]
        }
      ]
    },
    {
      "cell_type": "code",
      "source": [
        "#Qus23. Write a Python program that writes to a log file when an error occurs during file handling.\n",
        "import logging\n",
        "\n",
        "\n",
        "logging.basicConfig(filename='file_error.log', level=logging.ERROR,\n",
        "                    format='%(asctime)s - %(levelname)s - %(message)s')\n",
        "\n",
        "\n",
        "file_path = 'non_existent_file.txt'\n",
        "\n",
        "try:\n",
        "    # Attempt to open the file\n",
        "    with open(file_path, 'r') as file:\n",
        "        content = file.read()\n",
        "        print(content)\n",
        "except Exception as e:\n",
        "    # Log any error that occurs during file handling\n",
        "    logging.error(f\"Error occurred: {str(e)}\")\n",
        "    print(f\"Error: {str(e)}\")\n"
      ],
      "metadata": {
        "id": "6qIPYHm8TTpC"
      },
      "execution_count": null,
      "outputs": []
    }
  ]
}